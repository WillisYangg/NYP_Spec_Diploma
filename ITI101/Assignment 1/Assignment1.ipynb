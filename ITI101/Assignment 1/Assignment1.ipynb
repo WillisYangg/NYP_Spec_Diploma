{
 "cells": [
  {
   "cell_type": "markdown",
   "metadata": {},
   "source": [
    "# Assingment 1"
   ]
  },
  {
   "cell_type": "markdown",
   "metadata": {},
   "source": [
    "# Question 1"
   ]
  },
  {
   "cell_type": "markdown",
   "metadata": {},
   "source": [
    "# Project Documentation"
   ]
  },
  {
   "cell_type": "markdown",
   "metadata": {},
   "source": [
    "This project helps users organize their tasks and keep track of what needs to be done. It is useful for staying organized and working better in a team."
   ]
  },
  {
   "cell_type": "markdown",
   "metadata": {},
   "source": [
    "## Features"
   ]
  },
  {
   "cell_type": "markdown",
   "metadata": {},
   "source": [
    "- Easy-to-use task list\n",
    "- Team progress board\n",
    "- Reminder notifications"
   ]
  },
  {
   "cell_type": "markdown",
   "metadata": {},
   "source": [
    "| Module Name | Description                           | Version |\n",
    "|-------------|---------------------------------------|---------|\n",
    "| TaskTracker | Allows users to create and manage tasks | 1.0     |\n",
    "| TeamBoard   | Visual representation of team progress | 1.2     |"
   ]
  },
  {
   "cell_type": "markdown",
   "metadata": {},
   "source": [
    "### Python Code Example"
   ]
  },
  {
   "cell_type": "code",
   "execution_count": 1,
   "metadata": {},
   "outputs": [
    {
     "name": "stdout",
     "output_type": "stream",
     "text": [
      "5\n"
     ]
    }
   ],
   "source": [
    "def add_numbers(x, y):\n",
    "    return x+y\n",
    "\n",
    "print(add_numbers(2,3))"
   ]
  },
  {
   "cell_type": "markdown",
   "metadata": {},
   "source": [
    "#### Mathematical Formula"
   ]
  },
  {
   "cell_type": "markdown",
   "metadata": {},
   "source": [
    "A = πr²"
   ]
  },
  {
   "cell_type": "markdown",
   "metadata": {},
   "source": [
    "# Question 2"
   ]
  },
  {
   "cell_type": "code",
   "execution_count": 19,
   "metadata": {},
   "outputs": [],
   "source": [
    "# use combinations to come up with the possible combinations of values from differnt number of value inputs\n",
    "from itertools import combinations\n",
    "\n",
    "def max_containers(deck: list, maxWeight: int, maxSurface: int) -> int:\n",
    "    # flatten 2d to 1d\n",
    "    containers = [container for row in deck for container in row]\n",
    "    max_containers = 0\n",
    "\n",
    "    for i in range(1, len(containers)+1):\n",
    "        for combined in combinations(containers, i):\n",
    "            total_weight = sum(weight for size, weight in combined)\n",
    "            total_surface = sum(size for size, weight in combined)\n",
    "            \n",
    "            if total_weight <= maxWeight and total_surface <= maxSurface:\n",
    "                max_containers = max(max_containers, len(combined))\n",
    "\n",
    "    return max_containers"
   ]
  },
  {
   "cell_type": "markdown",
   "metadata": {},
   "source": [
    "## Test Cases"
   ]
  },
  {
   "cell_type": "code",
   "execution_count": 20,
   "metadata": {},
   "outputs": [
    {
     "name": "stdout",
     "output_type": "stream",
     "text": [
      "6\n"
     ]
    }
   ],
   "source": [
    "deck = [\n",
    "[(1, 10), (1, 15), (2, 20)],\n",
    "[(1, 5), (2, 25), (1, 10)],\n",
    "[(2, 30), (1, 10), (1, 5)]\n",
    "]\n",
    "maxWeight = 100 # Ship's weight capacity\n",
    "maxSurface = 6 # Ship's available deck surface area\n",
    "print(max_containers(deck, maxWeight, maxSurface))"
   ]
  },
  {
   "cell_type": "code",
   "execution_count": 21,
   "metadata": {},
   "outputs": [
    {
     "name": "stdout",
     "output_type": "stream",
     "text": [
      "6\n"
     ]
    }
   ],
   "source": [
    "deck = [\n",
    "[(1, 10), (1, 15), (2, 20)],\n",
    "[(1, 5), (2, 25), (1, 10)],\n",
    "[(2, 30), (1, 10), (1, 5)]\n",
    "]\n",
    "maxWeight = 100\n",
    "maxSurface = 6\n",
    "print(max_containers(deck, maxWeight, maxSurface))"
   ]
  },
  {
   "cell_type": "code",
   "execution_count": 22,
   "metadata": {},
   "outputs": [
    {
     "name": "stdout",
     "output_type": "stream",
     "text": [
      "3\n"
     ]
    }
   ],
   "source": [
    "deck = [\n",
    "[(1, 10), (1, 15), (1, 10)],\n",
    "[(2, 30), (2, 25), (1, 10)]\n",
    "]\n",
    "maxWeight = 40\n",
    "maxSurface = 5\n",
    "print(max_containers(deck, maxWeight, maxSurface))"
   ]
  },
  {
   "cell_type": "code",
   "execution_count": 23,
   "metadata": {},
   "outputs": [
    {
     "name": "stdout",
     "output_type": "stream",
     "text": [
      "3\n"
     ]
    }
   ],
   "source": [
    "deck = [\n",
    "[(1, 5), (2, 10), (3, 15)],\n",
    "[(1, 5), (2, 10), (3, 15)]\n",
    "]\n",
    "maxWeight = 100\n",
    "maxSurface = 4\n",
    "print(max_containers(deck, maxWeight, maxSurface))"
   ]
  },
  {
   "cell_type": "code",
   "execution_count": 24,
   "metadata": {},
   "outputs": [
    {
     "name": "stdout",
     "output_type": "stream",
     "text": [
      "0\n"
     ]
    }
   ],
   "source": [
    "deck = [\n",
    "[(2, 50), (3, 60)],\n",
    "[(2, 70), (3, 80)]\n",
    "]\n",
    "maxWeight = 40\n",
    "maxSurface = 3\n",
    "print(max_containers(deck, maxWeight, maxSurface))"
   ]
  },
  {
   "cell_type": "code",
   "execution_count": 25,
   "metadata": {},
   "outputs": [
    {
     "name": "stdout",
     "output_type": "stream",
     "text": [
      "8\n"
     ]
    }
   ],
   "source": [
    "deck = [\n",
    "[(1, 5), (1, 5), (1, 5), (1, 5)],\n",
    "[(1, 5), (1, 5), (1, 5), (1, 5)],\n",
    "[(2, 10), (2, 10), (2, 10), (2, 10)],\n",
    "[(3, 15), (3, 15), (3, 15), (3, 15)]\n",
    "]\n",
    "maxWeight = 50\n",
    "maxSurface = 8\n",
    "print(max_containers(deck, maxWeight, maxSurface))"
   ]
  },
  {
   "cell_type": "markdown",
   "metadata": {},
   "source": [
    "# Question 3"
   ]
  },
  {
   "cell_type": "code",
   "execution_count": 30,
   "metadata": {},
   "outputs": [
    {
     "name": "stdout",
     "output_type": "stream",
     "text": [
      "   Quantity Sold       Product  Unit Price Month    w Tax\n",
      "0            500        Apples         0.8   Jan   S$0.84\n",
      "1            600       Oranges         1.0   Jan   S$1.05\n",
      "2            500       Durians        30.0   Jan  S$32.70\n",
      "3            400  Blue berries         3.0   Jan   S$3.27\n",
      "4            600       Bananas         0.5   Jan   S$0.53\n",
      "5            900        Apples         0.8   Feb   S$0.84\n",
      "6            300       Bananas         0.5   Feb   S$0.53\n",
      "7            200        Apples         0.8   Mar   S$0.84\n",
      "8            100       Bananas         1.0   Mar   S$1.05\n"
     ]
    }
   ],
   "source": [
    "import pandas as pd\n",
    "\n",
    "df = pd.read_excel(\"fruits_details.xlsx\")\n",
    "\n",
    "df2 = pd.DataFrame({\n",
    "    \"Quantity Sold\": [900, 300],\n",
    "    \"Product\": [\"Apples\", \"Bananas\"],\n",
    "    \"Unit Price\": [0.80, 0.50],\n",
    "    \"Month\": [\"Feb\", \"Feb\"]\n",
    "})\n",
    "\n",
    "df3 = pd.DataFrame({\n",
    "    \"Quantity Sold\": [200, 100],\n",
    "    \"Product\": [\"Apples\", \"Bananas\"],\n",
    "    \"Unit Price\": [0.80, 1.00],\n",
    "    \"Month\": [\"Mar\", \"Mar\"]\n",
    "})\n",
    "\n",
    "df_concatenate = pd.concat([df, df2, df3], ignore_index=True)\n",
    "\n",
    "def tax_price(price):\n",
    "    if price >= 2.00:\n",
    "        return price * 1.09\n",
    "    else:\n",
    "        return price * 1.05\n",
    "    \n",
    "df_concatenate[\"w Tax\"] = df_concatenate[\"Unit Price\"].apply(tax_price)\n",
    "\n",
    "df_concatenate[\"w Tax\"] = df_concatenate[\"w Tax\"].apply(lambda x: f\"S${x:.2f}\")\n",
    "\n",
    "print(df_concatenate)"
   ]
  },
  {
   "cell_type": "markdown",
   "metadata": {},
   "source": [
    "# Question 4"
   ]
  },
  {
   "cell_type": "code",
   "execution_count": 36,
   "metadata": {},
   "outputs": [],
   "source": [
    "def find_overlap_areas(rectangles):\n",
    "    n = len(rectangles)\n",
    "    overlaps = []\n",
    "\n",
    "    for i in range(n):\n",
    "        for j in range(i + 1, n):\n",
    "            r1 = rectangles[i]\n",
    "            r2 = rectangles[j]\n",
    "\n",
    "            x_left = max(r1[0], r2[0])\n",
    "            y_bottom = max(r1[1], r2[1])\n",
    "            x_right = min(r1[2], r2[2])\n",
    "            y_top = min(r1[3], r2[3])\n",
    "\n",
    "            if x_left < x_right and y_bottom < y_top:\n",
    "                overlaps.append([x_left, y_bottom, x_right, y_top])\n",
    "\n",
    "    return overlaps"
   ]
  },
  {
   "cell_type": "markdown",
   "metadata": {},
   "source": [
    "## Test Cases"
   ]
  },
  {
   "cell_type": "code",
   "execution_count": 37,
   "metadata": {},
   "outputs": [
    {
     "name": "stdout",
     "output_type": "stream",
     "text": [
      "[[0, 0, 3, 2], [-2, 0, 2, 3], [0, -1, 2, 2]]\n",
      "[[0, 0, 3, 2]]\n",
      "[[-2, -2, 2, 2], [1, 1, 2, 2], [1, 1, 2, 2]]\n"
     ]
    }
   ],
   "source": [
    "rectangles1 = [\n",
    "[-3, 0, 3, 4],\n",
    "[0, -1, 9, 2]\n",
    "]\n",
    "rectangles2 = [\n",
    "[-2, -2, 2, 2],\n",
    "[-2, -2, 2, 2],\n",
    "[1, 1, 3, 3]\n",
    "]\n",
    "rectangles3 = [\n",
    "[-3, 0, 3, 4],\n",
    "[0, -1, 5, 2],\n",
    "[-2, -2, 2, 3]\n",
    "]\n",
    "print(find_overlap_areas(rectangles3))\n",
    "print(find_overlap_areas(rectangles1)) \n",
    "print(find_overlap_areas(rectangles2)) "
   ]
  },
  {
   "cell_type": "markdown",
   "metadata": {},
   "source": [
    "# Question 5"
   ]
  },
  {
   "cell_type": "code",
   "execution_count": 38,
   "metadata": {},
   "outputs": [],
   "source": [
    "def find_min_radius(houses, heaters):\n",
    "    houses.sort()\n",
    "    heaters.sort()\n",
    "    \n",
    "    def closest_heater(house):\n",
    "        left, right = 0, len(heaters) - 1\n",
    "        while left <= right:\n",
    "            mid = (left + right) // 2\n",
    "            if heaters[mid] < house:\n",
    "                left = mid + 1\n",
    "            else:\n",
    "                right = mid - 1\n",
    "\n",
    "        dist1 = abs(house - heaters[left]) if left < len(heaters) else float('inf')\n",
    "        dist2 = abs(house - heaters[right]) if right >= 0 else float('inf')\n",
    "        \n",
    "        return min(dist1, dist2)\n",
    "\n",
    "    return max(closest_heater(hse) for hse in houses)"
   ]
  },
  {
   "cell_type": "markdown",
   "metadata": {},
   "source": [
    "## Test Cases"
   ]
  },
  {
   "cell_type": "code",
   "execution_count": 39,
   "metadata": {},
   "outputs": [
    {
     "name": "stdout",
     "output_type": "stream",
     "text": [
      "1\n",
      "1\n",
      "3\n"
     ]
    }
   ],
   "source": [
    "print(find_min_radius([1, 2, 3], [2]))\n",
    "print(find_min_radius([1, 2, 3, 4], [1, 4]))\n",
    "print(find_min_radius([1, 5], [2]))"
   ]
  },
  {
   "cell_type": "code",
   "execution_count": null,
   "metadata": {},
   "outputs": [],
   "source": []
  }
 ],
 "metadata": {
  "kernelspec": {
   "display_name": "base",
   "language": "python",
   "name": "python3"
  },
  "language_info": {
   "codemirror_mode": {
    "name": "ipython",
    "version": 3
   },
   "file_extension": ".py",
   "mimetype": "text/x-python",
   "name": "python",
   "nbconvert_exporter": "python",
   "pygments_lexer": "ipython3",
   "version": "3.12.7"
  }
 },
 "nbformat": 4,
 "nbformat_minor": 2
}
